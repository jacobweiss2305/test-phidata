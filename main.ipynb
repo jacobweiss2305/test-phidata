{
 "cells": [
  {
   "cell_type": "code",
   "execution_count": null,
   "metadata": {},
   "outputs": [],
   "source": [
    "from phi.assistant.duckdb import DuckDbAssistant\n",
    "import json\n",
    "\n",
    "sql_assistant = DuckDbAssistant(\n",
    "    semantic_model=json.dumps({\n",
    "        \"tables\": [\n",
    "            {\n",
    "                \"name\": \"IMDB-Movie-Data\",\n",
    "                \"description\": \"Contains information about movies.\",\n",
    "                \"path\": \"IMDB-Movie-Data.csv\",\n",
    "            }\n",
    "        ]\n",
    "    }),\n",
    "    # llm=OllamaTools(model=\"llama3:70b-instruct\", host=\"http://192.168.2.162:11434\"),\n",
    "    description=\"You are a world-class sql data analyst. Use sql answer users question.\",\n",
    "    instructions=[\n",
    "        \"Use SQL to answer the users question.\",\n",
    "        \"Filter using like for partial matches.\",\n",
    "    ],\n",
    "    name=\"SQL data analyst\",\n",
    ")\n",
    "\n",
    "sql_assistant.run(\"How many movies were released in the year 2016?\", stream=False)"
   ]
  },
  {
   "cell_type": "code",
   "execution_count": null,
   "metadata": {},
   "outputs": [],
   "source": [
    "from phi.assistant.python import PythonAssistant\n",
    "from phi.file.local.csv import CsvFile\n",
    "\n",
    "python_assistant = PythonAssistant(\n",
    "    files=[\n",
    "        CsvFile(\n",
    "            path=\"https://phidata-public.s3.amazonaws.com/demo_data/IMDB-Movie-Data.csv\",\n",
    "            description=\"Contains information about movies from IMDB.\",\n",
    "        )\n",
    "    ],\n",
    "    show_function_calls=True,\n",
    "    debug=True,\n",
    ")\n",
    "\n",
    "python_assistant.print_response(\"What is the average rating of movies?\")"
   ]
  }
 ],
 "metadata": {
  "language_info": {
   "name": "python"
  }
 },
 "nbformat": 4,
 "nbformat_minor": 2
}
